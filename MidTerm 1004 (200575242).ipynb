{
 "cells": [
  {
   "cell_type": "markdown",
   "id": "raised-intake",
   "metadata": {},
   "source": [
    "## Question 21\n",
    "### __int()__: Constructor that takes as input a pair of Point objects that represent the ends points of the line segment\n",
    "\n",
    "### Length():: returns the length if the segment \n",
    "\n",
    "### Slope() returns the slope of the segment of none if the slope is unbounded \n",
    "\n",
    " \n",
    "\n",
    "#### >>> p1 = Point(3,4)\n",
    "\n",
    "#### >>> p2 = Point()\n",
    "\n",
    "#### >>> s = Segment(p1,p2)\n",
    "\n",
    "#### >>> s.length()\n",
    "\n",
    "#### 5.0\n",
    "\n",
    "#### >>> s.slope()\n",
    "\n",
    "#### 0.75"
   ]
  },
  {
   "cell_type": "code",
   "execution_count": 41,
   "id": "reverse-reminder",
   "metadata": {},
   "outputs": [
    {
     "name": "stdout",
     "output_type": "stream",
     "text": [
      "5.0\n",
      "1.3333333333333333\n"
     ]
    }
   ],
   "source": [
    "import math\n",
    "\n",
    "class Point:\n",
    "    def __init__(self, x=0, y=0):\n",
    "        self.x = x\n",
    "        self.y = y\n",
    "\n",
    "class Segment:\n",
    "    def __init__(self, point1, point2):\n",
    "        self.point1 = point1\n",
    "        self.point2 = point2\n",
    "\n",
    "    def length(self):\n",
    "        return math.sqrt((self.point1.x - self.point2.x)**2 + (self.point1.y - self.point2.y)**2)\n",
    "\n",
    "    def slope(self):\n",
    "        if self.point2.x - self.point1.x == 0:\n",
    "            return None\n",
    "        return (self.point2.y - self.point1.y) / (self.point2.x - self.point1.x)\n",
    "\n",
    "print(s.length())  # Output: 5.0\n",
    "print(s.slope())  # Output: 0.75"
   ]
  },
  {
   "cell_type": "markdown",
   "id": "portuguese-picture",
   "metadata": {},
   "source": [
    "## Question 22\n",
    "\n",
    "\n",
    "###  In a jupyter notebook solve the following question using both python and SQL. Please upload the notebook to GitHub and provide the link submission box below.\n",
    "\n",
    "\n",
    "\n",
    "##### +---------------+---------+\n",
    "#####  | Column Name   | Type    |\n",
    "##### +---------------+---------+\n",
    "##### | id            | int     |\n",
    "##### | recordDate    | date    |\n",
    "##### | temperature   | int     |\n",
    "##### +---------------+---------+\n",
    "#### id is the column with unique values for this table.\n",
    "#### This table contains information about the temperature on a certain day.\n",
    " \n",
    " \n",
    "\n",
    "### Write a solution to find all dates' Id with higher temperatures compared to its previous dates (yesterday).\n",
    "\n",
    "### Return the result table in any order.\n",
    "\n",
    "#### Please use the following input Weather table for your solution. To receive full marks you will need to create the database, create the table, insert the data below and execute the SQL query.\n",
    "\n",
    " \n",
    "\n",
    "### Input: \n",
    "### Weather table:\n",
    "##### +----+------------+-------------+\n",
    "##### | id | recordDate | temperature |\n",
    "##### +----+------------+-------------+\n",
    "##### | 1  | 2015-01-01 | 10          |\n",
    "##### | 2  | 2015-01-02 | 25          |\n",
    "##### | 3  | 2015-01-03 | 20          |\n",
    "##### | 4  | 2015-01-04 | 30          |\n",
    "##### +----+------------+-------------+\n",
    "### Output: \n",
    "##### +----+\n",
    "##### | id |\n",
    "##### +----+\n",
    "##### | 2  |\n",
    "##### | 4  |\n",
    "##### +----+\n",
    "### Explanation: \n",
    "#### In 2015-01-02, the temperature was higher than the previous day (10 -> 25).\n",
    "#### In 2015-01-04, the temperature was higher than the previous day (20 -> 30)."
   ]
  },
  {
   "cell_type": "code",
   "execution_count": 18,
   "id": "floppy-constitutional",
   "metadata": {},
   "outputs": [],
   "source": [
    "%load_ext sql\n",
    "%sql sqlite:// "
   ]
  },
  {
   "cell_type": "code",
   "execution_count": 19,
   "id": "abstract-syntax",
   "metadata": {
    "scrolled": true
   },
   "outputs": [
    {
     "name": "stdout",
     "output_type": "stream",
     "text": [
      " * sqlite://\n",
      "Done.\n"
     ]
    },
    {
     "data": {
      "text/plain": [
       "[]"
      ]
     },
     "execution_count": 19,
     "metadata": {},
     "output_type": "execute_result"
    }
   ],
   "source": [
    "%%sql\n",
    "CREATE TABLE IF NOT EXISTS weather (\n",
    "    id INT,\n",
    "    recordDate DATE,\n",
    "    Temperature INT\n",
    ");"
   ]
  },
  {
   "cell_type": "code",
   "execution_count": 36,
   "id": "presidential-entity",
   "metadata": {},
   "outputs": [
    {
     "name": "stdout",
     "output_type": "stream",
     "text": [
      " * sqlite://\n",
      "4 rows affected.\n"
     ]
    },
    {
     "data": {
      "text/plain": [
       "[]"
      ]
     },
     "execution_count": 36,
     "metadata": {},
     "output_type": "execute_result"
    }
   ],
   "source": [
    "%%sql\n",
    "\n",
    "INSERT INTO Weather (id, recordDate, temperature)\n",
    "VALUES\n",
    "    (1, '2015-01-01', 10),\n",
    "    (2, '2015-01-02', 25),\n",
    "    (3, '2015-01-03', 20),\n",
    "    (4, '2015-01-04', 30);"
   ]
  },
  {
   "cell_type": "code",
   "execution_count": 21,
   "id": "musical-macintosh",
   "metadata": {},
   "outputs": [
    {
     "name": "stdout",
     "output_type": "stream",
     "text": [
      " * sqlite://\n",
      "Done.\n"
     ]
    },
    {
     "data": {
      "text/html": [
       "<table>\n",
       "    <thead>\n",
       "        <tr>\n",
       "            <th>id</th>\n",
       "        </tr>\n",
       "    </thead>\n",
       "    <tbody>\n",
       "        <tr>\n",
       "            <td>2</td>\n",
       "        </tr>\n",
       "        <tr>\n",
       "            <td>4</td>\n",
       "        </tr>\n",
       "    </tbody>\n",
       "</table>"
      ],
      "text/plain": [
       "[(2,), (4,)]"
      ]
     },
     "execution_count": 21,
     "metadata": {},
     "output_type": "execute_result"
    }
   ],
   "source": [
    "%%sql\n",
    "SELECT w1.id\n",
    "FROM Weather w1\n",
    "JOIN Weather w2 ON w1.recordDate = date(w2.recordDate, '+1 day')\n",
    "WHERE w1.Temperature > w2.Temperature"
   ]
  },
  {
   "cell_type": "markdown",
   "id": "listed-virginia",
   "metadata": {},
   "source": [
    "## Question 23\n",
    "### In a jupyter notebook solve the following question using python. Please upload the notebook to GitHub and provide the link submission box below.\n",
    "\n",
    "\n",
    "\n",
    "### Develop a recursive function tough() that takes two nonnegative integer arguments and outputs a pattern as shown below. Hint: The first argument represents the indentation of the pattern, where the second argument -- always a pattern of 2 indicates the number *s in the longest line of *s in the pattern"
   ]
  },
  {
   "cell_type": "code",
   "execution_count": 30,
   "id": "configured-bearing",
   "metadata": {},
   "outputs": [
    {
     "name": "stdout",
     "output_type": "stream",
     "text": [
      "=====================\n",
      "*\n",
      "=====================\n",
      "*\n",
      "**\n",
      " *\n",
      "=====================\n",
      "*\n",
      "**\n",
      " *\n",
      "****\n",
      "  *\n",
      "  **\n",
      "   *\n"
     ]
    }
   ],
   "source": [
    "def f(indent, num):\n",
    "    if(num > 0):\n",
    "        f(indent, num//2);\n",
    "        print(\" \"* indent + \"*\"*num);\n",
    "        f(indent + num//2, num//2);\n",
    "\n",
    "f(0,0)\n",
    "print(\"=====================\")\n",
    "f(0,1)\n",
    "print(\"=====================\")\n",
    "f(0,2)\n",
    "print(\"=====================\")\n",
    "f(0,4)"
   ]
  },
  {
   "cell_type": "code",
   "execution_count": null,
   "id": "north-sandwich",
   "metadata": {},
   "outputs": [],
   "source": []
  }
 ],
 "metadata": {
  "kernelspec": {
   "display_name": "Python 3",
   "language": "python",
   "name": "python3"
  },
  "language_info": {
   "codemirror_mode": {
    "name": "ipython",
    "version": 3
   },
   "file_extension": ".py",
   "mimetype": "text/x-python",
   "name": "python",
   "nbconvert_exporter": "python",
   "pygments_lexer": "ipython3",
   "version": "3.8.7"
  }
 },
 "nbformat": 4,
 "nbformat_minor": 5
}
